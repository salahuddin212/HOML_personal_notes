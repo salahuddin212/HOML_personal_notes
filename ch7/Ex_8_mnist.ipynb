{
 "cells": [
  {
   "cell_type": "markdown",
   "id": "9858f9bb-232b-447f-ade1-c8a3121e8693",
   "metadata": {},
   "source": [
    "# Excercise 8:\n",
    "\n",
    "Load the MNIST dataset (introduced in Chapter 3), and split it into a training\n",
    "set, a validation set, and a test set (e.g., use 50,000 instances for training, 10,000\n",
    "for validation, and 10,000 for testing).\n",
    "\n",
    "Then train various classifiers, such as a\n",
    "random forest classifier, an extra-trees classifier, and an SVM classifier. \n",
    "\n",
    "Next, try to combine them into an ensemble that outperforms each individual classifier\n",
    "on the validation set, using soft or hard voting. \n",
    "\n",
    "Once you have found one, try\n",
    "it on the test set. \n",
    "\n",
    "How much better does it perform compared to the individual\n",
    "classifiers?"
   ]
  },
  {
   "cell_type": "markdown",
   "id": "224031e3-96dd-4c30-9363-f277e6e0fde9",
   "metadata": {},
   "source": [
    "Load the MNIST dataset (introduced in Chapter 3), and split it into a training\n",
    "set, a validation set, and a test set (e.g., use 50,000 instances for training, 10,000\n",
    "for validation, and 10,000 for testing)."
   ]
  },
  {
   "cell_type": "code",
   "execution_count": 1,
   "id": "07c12c86-99e4-4cb4-baf5-988511a49a61",
   "metadata": {},
   "outputs": [],
   "source": [
    "from sklearn.datasets import fetch_openml\n",
    "\n",
    "# Load the MNIST dataset\n",
    "mnist = fetch_openml('mnist_784', version=1, as_frame=False)\n",
    "X_mnist, y_mnist = mnist['data'], mnist['target']"
   ]
  },
  {
   "cell_type": "code",
   "execution_count": 2,
   "id": "bb313727-bd1a-4b38-9dd1-b6d33dfb574c",
   "metadata": {},
   "outputs": [],
   "source": [
    "X_train, y_train = X_mnist[:50_000], y_mnist[:50_000]\n",
    "X_valid, y_valid = X_mnist[50_000:60_000], y_mnist[50_000:60_000]\n",
    "X_test, y_test = X_mnist[60_000:], y_mnist[60_000:]"
   ]
  },
  {
   "cell_type": "markdown",
   "id": "846da149-10b5-4a4d-a802-0504f1e0e4e9",
   "metadata": {},
   "source": [
    "Then train various classifiers, such as a\n",
    "random forest classifier, an extra-trees classifier, and an SVM classifier. "
   ]
  },
  {
   "cell_type": "code",
   "execution_count": 3,
   "id": "f5c17da6-832c-4527-abdf-1981e14889b6",
   "metadata": {},
   "outputs": [],
   "source": [
    "from sklearn.ensemble import ExtraTreesClassifier\n",
    "from sklearn.svm import LinearSVC\n",
    "from sklearn.neural_network import MLPClassifier\n",
    "from sklearn.ensemble import RandomForestClassifier"
   ]
  },
  {
   "cell_type": "code",
   "execution_count": 4,
   "id": "903e441e-ab0f-438e-999d-f2afb378a1fc",
   "metadata": {},
   "outputs": [],
   "source": [
    "random_forest_clf = RandomForestClassifier(n_estimators=100, random_state=42)\n",
    "extra_trees_clf = ExtraTreesClassifier(n_estimators=100, random_state=42)\n",
    "svm_clf = LinearSVC(max_iter=100, tol=20, dual=True, random_state=42)\n",
    "mlp_clf = MLPClassifier(random_state=42)"
   ]
  },
  {
   "cell_type": "code",
   "execution_count": 5,
   "id": "ec327969-1ae0-4054-aa36-dbf3bfd37e46",
   "metadata": {},
   "outputs": [
    {
     "name": "stdout",
     "output_type": "stream",
     "text": [
      "Training the RandomForestClassifier(random_state=42)\n",
      "Training the ExtraTreesClassifier(random_state=42)\n",
      "Training the LinearSVC(dual=True, max_iter=100, random_state=42, tol=20)\n",
      "Training the MLPClassifier(random_state=42)\n"
     ]
    }
   ],
   "source": [
    "estimators = [random_forest_clf, extra_trees_clf, svm_clf, mlp_clf]\n",
    "for estimator in estimators:\n",
    "    print(\"Training the\", estimator)\n",
    "    estimator.fit(X_train, y_train)"
   ]
  },
  {
   "cell_type": "code",
   "execution_count": 6,
   "id": "20dcef36-44f1-4abc-a4e3-f39946d3bda5",
   "metadata": {},
   "outputs": [
    {
     "data": {
      "text/plain": [
       "[0.9736, 0.9743, 0.8662, 0.9669]"
      ]
     },
     "execution_count": 6,
     "metadata": {},
     "output_type": "execute_result"
    }
   ],
   "source": [
    "[estimator.score(X_valid, y_valid) for estimator in estimators]"
   ]
  },
  {
   "cell_type": "code",
   "execution_count": null,
   "id": "3907aed9-f512-406c-852e-6c715199d791",
   "metadata": {},
   "outputs": [],
   "source": [
    "from sklearn.ensemble import VotingClassifier\n",
    "\n",
    "named_estimators = [\n",
    "    (\"random_forest_clf\", random_forest_clf),\n",
    "    (\"extra_trees_clf\", extra_trees_clf),\n",
    "    (\"svm_clf\", svm_clf),\n",
    "    (\"mlp_clf\", mlp_clf),\n",
    "]\n",
    "voting_clf = VotingClassifier(named_estimators)\n",
    "voting_clf.fit(X_train, y_train)"
   ]
  },
  {
   "cell_type": "code",
   "execution_count": null,
   "id": "e728e55c-2483-4b56-af3a-c4c36c5a428d",
   "metadata": {},
   "outputs": [],
   "source": [
    "voting_clf.score(X_valid, y_valid)"
   ]
  },
  {
   "cell_type": "markdown",
   "id": "edb26b11-0169-42d9-9a58-e9dcb5843c3f",
   "metadata": {},
   "source": [
    "The `VotingClassifier` made a clone of each classifier, and it trained the clones using class indices as the labels, not the original class names. Therefore, to evaluate these clones we need to provide class indices as well. To convert the classes to class indices, we can use a `LabelEncoder`:"
   ]
  },
  {
   "cell_type": "code",
   "execution_count": null,
   "id": "88df18d6-3546-4d6d-87ff-c690e3815915",
   "metadata": {},
   "outputs": [],
   "source": [
    "y_valid_encoded = y_valid.astype(np.int64)"
   ]
  },
  {
   "cell_type": "code",
   "execution_count": null,
   "id": "1d018ffe-3c99-4405-80cf-bfa7d23c4edb",
   "metadata": {},
   "outputs": [],
   "source": [
    "[estimator.score(X_valid, y_valid_encoded)\n",
    " for estimator in voting_clf.estimators_]"
   ]
  },
  {
   "cell_type": "code",
   "execution_count": null,
   "id": "44ffbc0a-c0c1-496a-9acc-959a0431e28c",
   "metadata": {},
   "outputs": [],
   "source": [
    "[estimator.score(X_valid, y_valid_encoded)\n",
    " for estimator in voting_clf.estimators_]"
   ]
  }
 ],
 "metadata": {
  "kernelspec": {
   "display_name": "Python [conda env:base] *",
   "language": "python",
   "name": "conda-base-py"
  },
  "language_info": {
   "codemirror_mode": {
    "name": "ipython",
    "version": 3
   },
   "file_extension": ".py",
   "mimetype": "text/x-python",
   "name": "python",
   "nbconvert_exporter": "python",
   "pygments_lexer": "ipython3",
   "version": "3.12.7"
  }
 },
 "nbformat": 4,
 "nbformat_minor": 5
}
