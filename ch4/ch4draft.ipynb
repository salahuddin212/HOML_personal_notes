{
 "cells": [
  {
   "cell_type": "markdown",
   "id": "fa9c93de-3c3d-4f09-94f7-11e01fd5314f",
   "metadata": {},
   "source": [
    "# Ch4: Training Models Exercises"
   ]
  },
  {
   "cell_type": "markdown",
   "id": "13d8c0e8-0503-44e5-8130-27921f58f79b",
   "metadata": {},
   "source": [
    "# Q 12. Batch Gradient Descent with early stopping for Softmax Regression\n",
    "Exercise: _Implement Batch Gradient Descent with early stopping for Softmax Regression without using Scikit-Learn, only NumPy. Use it on a classification task such as the iris dataset._"
   ]
  },
  {
   "cell_type": "markdown",
   "id": "0ec8e655-1389-4cbe-a08a-f98f85a995d5",
   "metadata": {},
   "source": [
    "🔹 1. Understand the Task Precisely\n",
    "You're asked to:\n",
    "\n",
    "Implement softmax regression (multi-class logistic regression)\n",
    "\n",
    "Train using batch gradient descent\n",
    "\n",
    "Include early stopping\n",
    "\n",
    "Do it from scratch with NumPy\n",
    "\n",
    "Use a real dataset (e.g., iris)\n",
    "\n",
    "⛔ No sklearn models\n",
    "✅ You can use sklearn.datasets to load data"
   ]
  },
  {
   "cell_type": "code",
   "execution_count": 2,
   "id": "b9adf96d-2685-4646-8589-571013bc288d",
   "metadata": {},
   "outputs": [],
   "source": [
    "from sklearn.datasets import load_iris\n",
    "from sklearn.model_selection import train_test_split\n",
    "from sklearn.preprocessing import OneHotEncoder\n",
    "import numpy as np\n",
    "\n",
    "data = load_iris()\n",
    "X = data.data\n",
    "y = data.target.reshape(-1, 1)  # column vector\n",
    "\n",
    "# One-hot encode labels\n",
    "encoder = OneHotEncoder(sparse_output=False)\n",
    "y_encoded = encoder.fit_transform(y)\n",
    "\n",
    "# Normalize features (optional)\n",
    "X = (X - X.mean(axis=0)) / X.std(axis=0)\n",
    "\n",
    "# Train/val split\n",
    "X_train, X_val, y_train, y_val = train_test_split(X, y_encoded, test_size=0.2, random_state=42)\n"
   ]
  }
 ],
 "metadata": {
  "kernelspec": {
   "display_name": "Python [conda env:base] *",
   "language": "python",
   "name": "conda-base-py"
  },
  "language_info": {
   "codemirror_mode": {
    "name": "ipython",
    "version": 3
   },
   "file_extension": ".py",
   "mimetype": "text/x-python",
   "name": "python",
   "nbconvert_exporter": "python",
   "pygments_lexer": "ipython3",
   "version": "3.12.7"
  }
 },
 "nbformat": 4,
 "nbformat_minor": 5
}
